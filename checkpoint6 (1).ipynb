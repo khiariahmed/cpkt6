{
  "nbformat": 4,
  "nbformat_minor": 0,
  "metadata": {
    "colab": {
      "name": "checkpoint6.ipynb",
      "provenance": []
    },
    "kernelspec": {
      "display_name": "Python 3",
      "name": "python3"
    },
    "language_info": {
      "name": "python"
    }
  },
  "cells": [
    {
      "cell_type": "code",
      "metadata": {
        "colab": {
          "base_uri": "https://localhost:8080/"
        },
        "id": "2gtWlsOw3uJe",
        "outputId": "6c6601a9-9fc2-4120-efa5-90f540cdb5fd"
      },
      "source": [
        "from array import *\n",
        "array_num = array('i', [1, 3, 5, 3, 7, 1, 9, 3])\n",
        "print(\"Original array: \"+str(array_num))\n",
        "num_list = array_num.tolist()\n",
        "print(\"Convert the said array to an ordinary list with the same items:\")\n",
        "print(num_list)"
      ],
      "execution_count": 31,
      "outputs": [
        {
          "output_type": "stream",
          "text": [
            "Original array: array('i', [1, 3, 5, 3, 7, 1, 9, 3])\n",
            "Convert the said array to an ordinary list with the same items:\n",
            "[1, 3, 5, 3, 7, 1, 9, 3]\n"
          ],
          "name": "stdout"
        }
      ]
    },
    {
      "cell_type": "code",
      "metadata": {
        "colab": {
          "base_uri": "https://localhost:8080/"
        },
        "id": "KzaMPFNu3vsx",
        "outputId": "a1660dfd-17a8-4dfb-b24f-aca3cc0cc03a"
      },
      "source": [
        "import numpy as np\n",
        "\n",
        "n_array = np.array([[55, 25, 15],\n",
        "                    [30, 44, 2],\n",
        "                    [11, 45, 77]])\n",
        "\n",
        "print(\"Numpy Matrix is:\")\n",
        "print(n_array)\n",
        "\n",
        "trace = np.trace(n_array)\n",
        "\n",
        "\n",
        "print(\"\\nTrace of given 3X3 matrix:\")\n",
        "print(trace)\n"
      ],
      "execution_count": 32,
      "outputs": [
        {
          "output_type": "stream",
          "text": [
            "Numpy Matrix is:\n",
            "[[55 25 15]\n",
            " [30 44  2]\n",
            " [11 45 77]]\n",
            "\n",
            "Trace of given 3X3 matrix:\n",
            "176\n"
          ],
          "name": "stdout"
        }
      ]
    },
    {
      "cell_type": "code",
      "metadata": {
        "colab": {
          "base_uri": "https://localhost:8080/"
        },
        "id": "ttYamBM130mH",
        "outputId": "64fb2cba-293c-4545-db04-f191a2f90384"
      },
      "source": [
        "import numpy as np\n",
        "x = np.array([[0, 10, 20], [20, 30, 40]])\n",
        "print(\"Original array: \")\n",
        "print(x)\n",
        "print(\"Values bigger than 10 =\", x[x>10])\n",
        "print(\"Their indices are \", np.nonzero(x > 10))"
      ],
      "execution_count": 33,
      "outputs": [
        {
          "output_type": "stream",
          "text": [
            "Original array: \n",
            "[[ 0 10 20]\n",
            " [20 30 40]]\n",
            "Values bigger than 10 = [20 20 30 40]\n",
            "Their indices are  (array([0, 1, 1, 1]), array([2, 0, 1, 2]))\n"
          ],
          "name": "stdout"
        }
      ]
    },
    {
      "cell_type": "code",
      "metadata": {
        "colab": {
          "base_uri": "https://localhost:8080/"
        },
        "id": "UCday-vx4Hnp",
        "outputId": "8a0548a1-a035-4b7e-cd89-95baff0fc6f1"
      },
      "source": [
        "a =np.random.randint(2, 10, size=(2,4))\n",
        "b=np.random.randint(7, 19, size=(2,4))\n",
        "print(a)\n",
        "\n",
        "print(b)\n",
        "c = np.add(a, b)\n",
        "print(c)"
      ],
      "execution_count": 34,
      "outputs": [
        {
          "output_type": "stream",
          "text": [
            "[[7 2 8 2]\n",
            " [6 8 6 6]]\n",
            "[[18  7  8  7]\n",
            " [16  7 15 18]]\n",
            "[[25  9 16  9]\n",
            " [22 15 21 24]]\n"
          ],
          "name": "stdout"
        }
      ]
    },
    {
      "cell_type": "code",
      "metadata": {
        "colab": {
          "base_uri": "https://localhost:8080/"
        },
        "id": "VqbTTMIz4X21",
        "outputId": "4602b477-07d6-49be-ad23-f5b478dca827"
      },
      "source": [
        "a = np.random.randint(2, 10, size=(2,4))\n",
        "b= np.mean(a,axis =1)\n",
        "print(a)\n",
        "print(b)\n",
        "Liste = b.tolist()\n",
        "print(f'List:{Liste}')\n",
        "index = 0\n",
        "for i in a :\n",
        "  index2 =0\n",
        "  for j in i:\n",
        "    a[index,index2] -= round(Liste[index])\n",
        "    index2 += 1\n",
        "  index += 1\n",
        "print(a)"
      ],
      "execution_count": 35,
      "outputs": [
        {
          "output_type": "stream",
          "text": [
            "[[2 4 4 9]\n",
            " [3 9 7 8]]\n",
            "[4.75 6.75]\n",
            "List:[4.75, 6.75]\n",
            "[[-3 -1 -1  4]\n",
            " [-4  2  0  1]]\n"
          ],
          "name": "stdout"
        }
      ]
    },
    {
      "cell_type": "code",
      "metadata": {
        "colab": {
          "base_uri": "https://localhost:8080/"
        },
        "id": "7o255HTR4fzD",
        "outputId": "b9d2605f-8e2c-4b59-e4d7-6da932539678"
      },
      "source": [
        "import numpy as np\n",
        "print(\"Original matrix:\\n\")\n",
        "X = np.random.randint(2, 10, size =(2,19))\n",
        "print(X)\n",
        "print(\"\\nSubtract the mean of each row of the said matrix:\\n\")\n",
        "Y = X.mean(axis=1, keepdims=True)\n",
        "print(Y)"
      ],
      "execution_count": 36,
      "outputs": [
        {
          "output_type": "stream",
          "text": [
            "Original matrix:\n",
            "\n",
            "[[6 6 6 8 2 5 4 7 7 6 7 5 5 5 9 5 4 2 6]\n",
            " [7 4 3 2 8 4 4 2 2 4 5 7 6 8 4 8 9 6 3]]\n",
            "\n",
            "Subtract the mean of each row of the said matrix:\n",
            "\n",
            "[[5.52631579]\n",
            " [5.05263158]]\n"
          ],
          "name": "stdout"
        }
      ]
    },
    {
      "cell_type": "code",
      "metadata": {
        "id": "ZWoryeMB546v"
      },
      "source": [
        ""
      ],
      "execution_count": null,
      "outputs": []
    }
  ]
}